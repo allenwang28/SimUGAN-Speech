{
 "cells": [
  {
   "cell_type": "code",
   "execution_count": 2,
   "metadata": {
    "collapsed": true
   },
   "outputs": [],
   "source": [
    "import numpy as np\n",
    "import copy\n",
    "import pickle\n",
    "\n",
    "from SimUGANSpeech.data.librispeechdata import LibriSpeechBatchGenerator "
   ]
  },
  {
   "cell_type": "code",
   "execution_count": 3,
   "metadata": {
    "collapsed": true
   },
   "outputs": [],
   "source": [
    "# Parameters\n",
    "folder_names = [ 'dev-clean', ]\n",
    "\n",
    "features = [ \n",
    "                'spectrogram', 'id'\n",
    "           ]\n",
    "\n",
    "feature_sizes = [\n",
    "                  None, None\n",
    "                ]\n",
    "\n",
    "batch_size = 1\n",
    "verbose = True\n",
    "\n",
    "chunk_pct=0.3\n",
    "num_iterations = 10"
   ]
  },
  {
   "cell_type": "code",
   "execution_count": 4,
   "metadata": {
    "collapsed": false
   },
   "outputs": [
    {
     "name": "stdout",
     "output_type": "stream",
     "text": [
      "Loading the master file...\n",
      "Finished loading the master file in 0.02251601219177246 seconds.\n"
     ]
    }
   ],
   "source": [
    "lsg = LibriSpeechBatchGenerator(folder_names,\n",
    "                                features,\n",
    "                                feature_sizes,\n",
    "                                batch_size=batch_size,\n",
    "                                chunk_pct=chunk_pct,\n",
    "                                verbose=verbose)\n",
    "\n",
    "bg = lsg.batch_generator()"
   ]
  },
  {
   "cell_type": "code",
   "execution_count": 6,
   "metadata": {
    "collapsed": false,
    "scrolled": true
   },
   "outputs": [
    {
     "data": {
      "text/plain": [
       "[(array([[-5., -5., -5., ..., -5., -5., -5.],\n",
       "         [-5., -5., -5., ..., -5., -5., -5.],\n",
       "         [-5., -5., -5., ..., -5., -5., -5.],\n",
       "         ..., \n",
       "         [ 0.,  0.,  0., ...,  0.,  0.,  0.],\n",
       "         [ 0.,  0.,  0., ...,  0.,  0.,  0.],\n",
       "         [ 0.,  0.,  0., ...,  0.,  0.,  0.]]), '130726')]"
      ]
     },
     "execution_count": 6,
     "metadata": {},
     "output_type": "execute_result"
    }
   ],
   "source": [
    "batch"
   ]
  },
  {
   "cell_type": "code",
   "execution_count": 9,
   "metadata": {
    "collapsed": false
   },
   "outputs": [
    {
     "name": "stdout",
     "output_type": "stream",
     "text": [
      "(2893, 200)\n",
      "130726\n",
      "(2893, 200)\n",
      "73752\n",
      "(2893, 200)\n",
      "130726\n",
      "(2438, 200)\n",
      "8226\n",
      "(2438, 200)\n",
      "129742\n",
      "(2893, 200)\n",
      "170142\n",
      "(2893, 200)\n",
      "73752\n",
      "(2893, 200)\n",
      "170142\n",
      "(2438, 200)\n",
      "8226\n",
      "(2438, 200)\n",
      "129742\n"
     ]
    }
   ],
   "source": [
    "for i in range(num_iterations):\n",
    "    batch = next(bg)\n",
    "    assert (len(batch) == batch_size)\n",
    "    \n",
    "    sample = batch[0]\n",
    "    spectrogram_1 = sample[0]\n",
    "    id_1 = sample[1]\n",
    "    \n",
    "    # Do whatever you want here...\n",
    "    print (spectrogram_1.shape)\n",
    "    print (id_1)"
   ]
  },
  {
   "cell_type": "code",
   "execution_count": null,
   "metadata": {
    "collapsed": true
   },
   "outputs": [],
   "source": []
  }
 ],
 "metadata": {
  "anaconda-cloud": {},
  "kernelspec": {
   "display_name": "Python [conda env:tensorflow]",
   "language": "python",
   "name": "conda-env-tensorflow-py"
  }
 },
 "nbformat": 4,
 "nbformat_minor": 2
}
